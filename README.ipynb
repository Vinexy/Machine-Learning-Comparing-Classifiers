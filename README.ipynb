# Machine-Learning-Comparing-Classifiers
Classifying patients based on six features (pelvic_tilt,sacral_slope etc.)

